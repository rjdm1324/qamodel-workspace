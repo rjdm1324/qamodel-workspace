{
 "cells": [
  {
   "cell_type": "markdown",
   "id": "2de5266b",
   "metadata": {},
   "source": [
    "QA Service (ko)\n",
    "---"
   ]
  },
  {
   "cell_type": "markdown",
   "id": "2a1b8abc",
   "metadata": {},
   "source": [
    "## Prepare library"
   ]
  },
  {
   "cell_type": "markdown",
   "id": "00aafdc3",
   "metadata": {},
   "source": [
    "Import the required library."
   ]
  },
  {
   "cell_type": "code",
   "execution_count": 1,
   "id": "33f7f7f1",
   "metadata": {},
   "outputs": [],
   "source": [
    "import torch\n",
    "from torch.utils.data import Dataset\n",
    "import numpy as np\n",
    "import pandas as pd\n",
    "from transformers import  TrainingArguments, Trainer\n",
    "from torch import cuda"
   ]
  },
  {
   "cell_type": "markdown",
   "id": "06ea148a",
   "metadata": {},
   "source": [
    "Set the model and configuration."
   ]
  },
  {
   "cell_type": "code",
   "execution_count": null,
   "id": "36bcc8e4",
   "metadata": {},
   "outputs": [],
   "source": [
    "from transformers import ElectraModel, ElectraConfig\n",
    "\n",
    "# Initializing a ELECTRA electra-base-uncased style configuration\n",
    "configuration = ElectraConfig()\n",
    "\n",
    "# Initializing a model from the electra-base-uncased style configuration\n",
    "model = ElectraModel(configuration)\n",
    "\n",
    "# Accessing the model configuration\n",
    "configuration = model.config"
   ]
  },
  {
   "cell_type": "markdown",
   "id": "f019e28b",
   "metadata": {},
   "source": [
    "Set the device to GPU Enabled."
   ]
  },
  {
   "cell_type": "code",
   "execution_count": 12,
   "id": "c1955481",
   "metadata": {
    "scrolled": false
   },
   "outputs": [
    {
     "name": "stderr",
     "output_type": "stream",
     "text": [
      "Some weights of the model checkpoint at monologg/koelectra-base-v3-discriminator were not used when initializing ElectraForQuestionAnswering: ['discriminator_predictions.dense_prediction.bias', 'discriminator_predictions.dense.bias', 'discriminator_predictions.dense.weight', 'discriminator_predictions.dense_prediction.weight']\n",
      "- This IS expected if you are initializing ElectraForQuestionAnswering from the checkpoint of a model trained on another task or with another architecture (e.g. initializing a BertForSequenceClassification model from a BertForPreTraining model).\n",
      "- This IS NOT expected if you are initializing ElectraForQuestionAnswering from the checkpoint of a model that you expect to be exactly identical (initializing a BertForSequenceClassification model from a BertForSequenceClassification model).\n",
      "Some weights of ElectraForQuestionAnswering were not initialized from the model checkpoint at monologg/koelectra-base-v3-discriminator and are newly initialized: ['qa_outputs.bias', 'qa_outputs.weight']\n",
      "You should probably TRAIN this model on a down-stream task to be able to use it for predictions and inference.\n"
     ]
    }
   ],
   "source": [
    "from transformers import ElectraForQuestionAnswering, ElectraTokenizerFast\n",
    "model = ElectraForQuestionAnswering.from_pretrained(\"monologg/koelectra-base-v3-discriminator\")\n",
    "tokenizer = ElectraTokenizerFast.from_pretrained(\"monologg/koelectra-base-v3-discriminator\")"
   ]
  },
  {
   "cell_type": "code",
   "execution_count": 2,
   "id": "4d69e34f",
   "metadata": {},
   "outputs": [],
   "source": [
    "device = 'cuda' if cuda.is_available() else 'cpu'"
   ]
  },
  {
   "cell_type": "markdown",
   "id": "8c0bad14",
   "metadata": {},
   "source": [
    "## Divide data set into train set and test set"
   ]
  },
  {
   "cell_type": "markdown",
   "id": "30be12be",
   "metadata": {},
   "source": [
    "Load the data set and divide it into train context, train question, test context, and text answer."
   ]
  },
  {
   "cell_type": "code",
   "execution_count": 3,
   "id": "fad2e803",
   "metadata": {},
   "outputs": [],
   "source": [
    "import json\n",
    "from pathlib import Path\n",
    "\n",
    "def read_klue(path):\n",
    "    path = Path(path)\n",
    "    with open(path, 'rb') as f:\n",
    "        squad_dict = json.load(f)\n",
    "\n",
    "    contexts = []\n",
    "    questions = []\n",
    "    answers = []\n",
    "    for group in squad_dict['data']:\n",
    "        for passage in group['paragraphs']:\n",
    "            context = passage['context']\n",
    "            for qa in passage['qas']:\n",
    "                question = qa['question']\n",
    "                for answer in qa['answers']:\n",
    "                    contexts.append(context)\n",
    "                    questions.append(question)\n",
    "                    answers.append(answer)\n",
    "\n",
    "    return contexts, questions, answers\n",
    "\n",
    "train_contexts, train_questions, train_answers = read_klue('klue-mrc-v1.1_train.json')\n",
    "val_contexts, val_questions, val_answers = read_klue('klue-mrc-v1.1_dev.json')"
   ]
  },
  {
   "cell_type": "markdown",
   "id": "928f464b",
   "metadata": {},
   "source": [
    "Add end idx so that you can tokenize the dataset you divided."
   ]
  },
  {
   "cell_type": "code",
   "execution_count": 4,
   "id": "66daf541",
   "metadata": {},
   "outputs": [],
   "source": [
    "def add_end_idx(answers, contexts):\n",
    "    for answer, context in zip(answers, contexts):\n",
    "        gold_text = answer['text']\n",
    "        start_idx = answer['answer_start']\n",
    "        end_idx = start_idx + len(gold_text)\n",
    "\n",
    "        # sometimes squad answers are off by a character or two – fix this\n",
    "        if context[start_idx:end_idx] == gold_text:\n",
    "            answer['answer_end'] = end_idx\n",
    "        elif context[start_idx-1:end_idx-1] == gold_text:\n",
    "            answer['answer_start'] = start_idx - 1\n",
    "            answer['answer_end'] = end_idx - 1     # When the gold label is off by one character\n",
    "        elif context[start_idx-2:end_idx-2] == gold_text:\n",
    "            answer['answer_start'] = start_idx - 2\n",
    "            answer['answer_end'] = end_idx - 2     # When the gold label is off by two characters\n",
    "\n",
    "add_end_idx(train_answers, train_contexts)\n",
    "add_end_idx(val_answers, val_contexts)"
   ]
  },
  {
   "cell_type": "markdown",
   "id": "7c2d4b2f",
   "metadata": {},
   "source": [
    "Encode dataset"
   ]
  },
  {
   "cell_type": "code",
   "execution_count": 13,
   "id": "a5d7f98f",
   "metadata": {},
   "outputs": [],
   "source": [
    "train_encodings = tokenizer(train_contexts, train_questions, truncation=True, padding=True)\n",
    "val_encodings = tokenizer(val_contexts, val_questions, truncation=True, padding=True)"
   ]
  },
  {
   "cell_type": "markdown",
   "id": "d754a4f2",
   "metadata": {},
   "source": [
    "Add the answer to the encoded data."
   ]
  },
  {
   "cell_type": "code",
   "execution_count": 14,
   "id": "93e68753",
   "metadata": {},
   "outputs": [],
   "source": [
    "def add_token_positions(encodings, answers):\n",
    "    start_positions = []\n",
    "    end_positions = []\n",
    "    for i in range(len(answers)):\n",
    "        start_positions.append(encodings.char_to_token(i, answers[i]['answer_start']))\n",
    "        end_positions.append(encodings.char_to_token(i, answers[i]['answer_end'] - 1))\n",
    "\n",
    "        # if start position is None, the answer passage has been truncated\n",
    "        if start_positions[-1] is None:\n",
    "            start_positions[-1] = tokenizer.model_max_length\n",
    "        if end_positions[-1] is None:\n",
    "            end_positions[-1] = tokenizer.model_max_length\n",
    "\n",
    "    encodings.update({'start_positions': start_positions, 'end_positions': end_positions})\n",
    "\n",
    "add_token_positions(train_encodings, train_answers)\n",
    "add_token_positions(val_encodings, val_answers)"
   ]
  },
  {
   "cell_type": "markdown",
   "id": "d9827051",
   "metadata": {},
   "source": [
    "Set Dataset to fit the trainer."
   ]
  },
  {
   "cell_type": "code",
   "execution_count": 15,
   "id": "dc20db74",
   "metadata": {},
   "outputs": [],
   "source": [
    "class KlueDataset(torch.utils.data.Dataset):\n",
    "    def __init__(self, encodings):\n",
    "        self.encodings = encodings\n",
    "\n",
    "    def __getitem__(self, idx):\n",
    "        return {key: torch.tensor(val[idx]) for key, val in self.encodings.items()}\n",
    "\n",
    "    def __len__(self):\n",
    "        return len(self.encodings.input_ids)\n",
    "\n",
    "train_dataset = KlueDataset(train_encodings)\n",
    "val_dataset = KlueDataset(val_encodings)"
   ]
  },
  {
   "cell_type": "markdown",
   "id": "e229c4d4",
   "metadata": {},
   "source": [
    "Set training arguments and train."
   ]
  },
  {
   "cell_type": "code",
   "execution_count": 16,
   "id": "ddec13ab",
   "metadata": {
    "scrolled": false
   },
   "outputs": [
    {
     "data": {
      "text/html": [
       "\n",
       "    <div>\n",
       "      \n",
       "      <progress value='2760' max='2760' style='width:300px; height:20px; vertical-align: middle;'></progress>\n",
       "      [2760/2760 45:34, Epoch 5/5]\n",
       "    </div>\n",
       "    <table border=\"1\" class=\"dataframe\">\n",
       "  <thead>\n",
       "    <tr style=\"text-align: left;\">\n",
       "      <th>Step</th>\n",
       "      <th>Training Loss</th>\n",
       "    </tr>\n",
       "  </thead>\n",
       "  <tbody>\n",
       "    <tr>\n",
       "      <td>400</td>\n",
       "      <td>3.899200</td>\n",
       "    </tr>\n",
       "    <tr>\n",
       "      <td>800</td>\n",
       "      <td>1.421700</td>\n",
       "    </tr>\n",
       "    <tr>\n",
       "      <td>1200</td>\n",
       "      <td>1.041700</td>\n",
       "    </tr>\n",
       "    <tr>\n",
       "      <td>1600</td>\n",
       "      <td>0.745600</td>\n",
       "    </tr>\n",
       "    <tr>\n",
       "      <td>2000</td>\n",
       "      <td>0.590400</td>\n",
       "    </tr>\n",
       "    <tr>\n",
       "      <td>2400</td>\n",
       "      <td>0.514700</td>\n",
       "    </tr>\n",
       "  </tbody>\n",
       "</table><p>"
      ],
      "text/plain": [
       "<IPython.core.display.HTML object>"
      ]
     },
     "metadata": {},
     "output_type": "display_data"
    },
    {
     "data": {
      "text/plain": [
       "TrainOutput(global_step=2760, training_loss=1.2530095031295998, metrics={'train_runtime': 2735.503, 'train_samples_per_second': 32.285, 'train_steps_per_second': 1.009, 'total_flos': 3.04761636598272e+16, 'train_loss': 1.2530095031295998, 'epoch': 5.0})"
      ]
     },
     "execution_count": 16,
     "metadata": {},
     "output_type": "execute_result"
    }
   ],
   "source": [
    "training_args = TrainingArguments(\n",
    "    output_dir='./results',          # output directory\n",
    "    num_train_epochs=5,              # total number of training epochs\n",
    "    per_device_train_batch_size=32,  # batch size per device during training\n",
    "    per_device_eval_batch_size=32,   # batch size for evaluation\n",
    "    warmup_steps=500,                # number of warmup steps for learning rate scheduler\n",
    "    weight_decay=0.01,               # strength of weight decay\n",
    "    logging_dir='./logs',            # directory for storing logs\n",
    "    logging_steps=400,\n",
    ")\n",
    "\n",
    "trainer = Trainer(\n",
    "    model = model.to(device),            # the instantiated 🤗 Transformers model to be trained\n",
    "    args=training_args,                  # training arguments, defined above\n",
    "    train_dataset=train_dataset,         # training dataset\n",
    "    eval_dataset=val_dataset             # evaluation dataset\n",
    ")\n",
    "\n",
    "trainer.train()"
   ]
  },
  {
   "cell_type": "markdown",
   "id": "fc3fde5e",
   "metadata": {},
   "source": [
    "Evaluate trained model"
   ]
  },
  {
   "cell_type": "code",
   "execution_count": 17,
   "id": "4a140014",
   "metadata": {
    "scrolled": true
   },
   "outputs": [
    {
     "data": {
      "text/html": [
       "\n",
       "    <div>\n",
       "      \n",
       "      <progress value='182' max='182' style='width:300px; height:20px; vertical-align: middle;'></progress>\n",
       "      [182/182 00:57]\n",
       "    </div>\n",
       "    "
      ],
      "text/plain": [
       "<IPython.core.display.HTML object>"
      ]
     },
     "metadata": {},
     "output_type": "display_data"
    },
    {
     "data": {
      "text/plain": [
       "{'eval_loss': 1.9084742069244385,\n",
       " 'eval_runtime': 57.5785,\n",
       " 'eval_samples_per_second': 100.923,\n",
       " 'eval_steps_per_second': 3.161,\n",
       " 'epoch': 5.0}"
      ]
     },
     "execution_count": 17,
     "metadata": {},
     "output_type": "execute_result"
    }
   ],
   "source": [
    "trainer.evaluate()"
   ]
  },
  {
   "cell_type": "markdown",
   "id": "1345b0f1",
   "metadata": {},
   "source": [
    "Save model"
   ]
  },
  {
   "cell_type": "code",
   "execution_count": 18,
   "id": "2d8c33d5",
   "metadata": {},
   "outputs": [
    {
     "data": {
      "text/plain": [
       "('klue-mrc-koeletra-base/tokenizer_config.json',\n",
       " 'klue-mrc-koeletra-base/special_tokens_map.json',\n",
       " 'klue-mrc-koeletra-base/vocab.txt',\n",
       " 'klue-mrc-koeletra-base/added_tokens.json',\n",
       " 'klue-mrc-koeletra-base/tokenizer.json')"
      ]
     },
     "execution_count": 18,
     "metadata": {},
     "output_type": "execute_result"
    }
   ],
   "source": [
    "model_path = \"klue-mrc-koelectra-base\"\n",
    "model.save_pretrained(model_path)\n",
    "tokenizer.save_pretrained(model_path)"
   ]
  },
  {
   "cell_type": "code",
   "execution_count": null,
   "id": "443bfab7",
   "metadata": {},
   "outputs": [],
   "source": []
  }
 ],
 "metadata": {
  "kernelspec": {
   "display_name": "Python 3",
   "language": "python",
   "name": "python3"
  },
  "language_info": {
   "codemirror_mode": {
    "name": "ipython",
    "version": 3
   },
   "file_extension": ".py",
   "mimetype": "text/x-python",
   "name": "python",
   "nbconvert_exporter": "python",
   "pygments_lexer": "ipython3",
   "version": "3.7.9"
  }
 },
 "nbformat": 4,
 "nbformat_minor": 5
}
